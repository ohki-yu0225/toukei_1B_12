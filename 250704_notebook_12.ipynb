{
  "cells": [
    {
      "cell_type": "markdown",
      "metadata": {
        "id": "view-in-github",
        "colab_type": "text"
      },
      "source": [
        "<a href=\"https://colab.research.google.com/github/ohki-yu0225/toukei_1B_12/blob/main/250704_notebook_12.ipynb\" target=\"_parent\"><img src=\"https://colab.research.google.com/assets/colab-badge.svg\" alt=\"Open In Colab\"/></a>"
      ]
    },
    {
      "cell_type": "markdown",
      "metadata": {
        "id": "H6ntY2LEbvq8"
      },
      "source": [
        "# 統計学実習 IB 第 12 回\n"
      ]
    },
    {
      "cell_type": "markdown",
      "metadata": {
        "id": "0TR6bGqcbvq-"
      },
      "source": [
        "# Statistics Practice IB 12th"
      ]
    },
    {
      "cell_type": "code",
      "execution_count": null,
      "metadata": {
        "id": "hDQ49EOZbvq-"
      },
      "outputs": [],
      "source": [
        "# 'pandas', 'numpy', 'matplotlib.pyplot', 'japanize_matplotlib', 'scipy.stats'をインポートする。\n",
        "# Import 'pandas', 'numpy', 'matplotlib.pyplot', 'japanize_matplotlib', and 'scipy.stats'.\n",
        "!pip install japanize_matplotlib\n",
        "\n",
        "import pandas as pd\n",
        "import numpy as np\n",
        "import matplotlib.pyplot as plt\n",
        "import japanize_matplotlib\n",
        "from scipy import stats"
      ]
    },
    {
      "cell_type": "markdown",
      "metadata": {
        "id": "Z1oObQLObvq_"
      },
      "source": [
        "## 離散型の同時確率分布\n",
        "\n",
        "谷合廣紀　著，辻真吾　監修「Pythonで理解する統計解析の基礎」（技術評論者）を参考にした。"
      ]
    },
    {
      "cell_type": "markdown",
      "metadata": {
        "id": "mzsGK97Qbvq_"
      },
      "source": [
        "## Simultaneous probability distributions of discrete type"
      ]
    },
    {
      "cell_type": "code",
      "execution_count": null,
      "metadata": {
        "id": "0762MdyAbvq_"
      },
      "outputs": [],
      "source": [
        "# サイコロAとサイコロBを振り、サイコロAの出目とBの出目の和を確率変数X、サイコロAの出目を確率変数Yとしたときの同時確率関数f(x,y)を定義する\n",
        "# Define the simultaneous probability function f(x,y) when dice A and B are rolled and the sum of the rolls of dice A and B is the random variable X and the roll of dice A is the random variable Y\n",
        "def f_xy(x, y):\n",
        "    if 1 <= y <= 6 and 1 <= x - y <= 6:\n",
        "        return y * (x - y) / 441\n",
        "    else:\n",
        "        return 0"
      ]
    },
    {
      "cell_type": "code",
      "execution_count": null,
      "metadata": {
        "id": "FvU3ImvrbvrA"
      },
      "outputs": [],
      "source": [
        "# X, Yの範囲を定め、同時確率分布を計算する\n",
        "# Determine the range of X, Y and calculate the simultaneous probability distribution\n",
        "x_set = np.arange(2, 13)\n",
        "y_set = np.arange(1, 7)\n",
        "prob = np.array([[f_xy(x_i, y_j) for y_j in y_set] for x_i in x_set])\n",
        "prob_df = pd.DataFrame(prob, index=x_set, columns=y_set)\n",
        "print(prob_df)"
      ]
    },
    {
      "cell_type": "code",
      "execution_count": null,
      "metadata": {
        "id": "IL9pxLzQbvrA"
      },
      "outputs": [],
      "source": [
        "# 同時確率分布をヒートマップで図示する\n",
        "# Illustrate simultaneous probability distributions with a heat map\n",
        "prob = np.array([[f_xy(x_i, y_j) for y_j in y_set] for x_i in x_set])\n",
        "fig = plt.figure()\n",
        "ax = fig.add_subplot(111)\n",
        "\n",
        "c = ax.pcolor(prob)\n",
        "ax.set_xticks(y_set - 0.5, minor=False)\n",
        "ax.set_yticks(x_set - 1.5, minor=False)\n",
        "ax.set_xticklabels(y_set, minor=False)\n",
        "ax.set_yticklabels(x_set, minor=False)\n",
        "ax.invert_yaxis()\n",
        "ax.xaxis.tick_top()\n",
        "fig.colorbar(c, ax=ax)\n",
        "plt.show()"
      ]
    },
    {
      "cell_type": "code",
      "execution_count": null,
      "metadata": {
        "id": "bLaLlAt8bvrB"
      },
      "outputs": [],
      "source": [
        "# Xの周辺確率分布を計算する\n",
        "# Calculate the marginal probability distribution around X\n",
        "prob_x = np.sum(prob, axis=1)\n",
        "prob_x_df = pd.DataFrame(prob_x, index=x_set)\n",
        "print(prob_x_df)"
      ]
    },
    {
      "cell_type": "code",
      "execution_count": null,
      "metadata": {
        "id": "dH7bpoHZbvrB"
      },
      "outputs": [],
      "source": [
        "# Xの周辺確率分布を図示する\n",
        "# Illustrate the marginal probability distribution around X\n",
        "plt.bar(x_set, prob_x)\n",
        "plt.ylabel(\"f(X)\")\n",
        "plt.xlabel(\"X\")"
      ]
    },
    {
      "cell_type": "code",
      "execution_count": null,
      "metadata": {
        "id": "b8C4SDv7bvrC"
      },
      "outputs": [],
      "source": [
        "# Xの期待値を計算する\n",
        "# Calculate the expected value of X\n",
        "x_mean = np.sum(x_set * prob_x)\n",
        "print(x_mean)"
      ]
    },
    {
      "cell_type": "code",
      "execution_count": null,
      "metadata": {
        "id": "V1nbe-rKbvrC"
      },
      "outputs": [],
      "source": [
        "# Xの分散を計算する\n",
        "# Calculate the variance of X\n",
        "x_var = np.sum((x_set - x_mean) ** 2 * prob_x)\n",
        "print(x_var)"
      ]
    },
    {
      "cell_type": "code",
      "execution_count": null,
      "metadata": {
        "id": "0j08sE0WbvrC"
      },
      "outputs": [],
      "source": [
        "# 練習1 Yの周辺確率分布を計算する\n",
        "# Exercise 1 Calculate the marginal probability distribution around Y\n"
      ]
    },
    {
      "cell_type": "code",
      "execution_count": null,
      "metadata": {
        "id": "L-VxvadHbvrD"
      },
      "outputs": [],
      "source": [
        "# 練習2 Yの周辺確率分布を図示する\n",
        "# Exercise 2 Illustrate the marginal probability distribution of Y\n"
      ]
    },
    {
      "cell_type": "code",
      "execution_count": null,
      "metadata": {
        "id": "iJw5Zs5bbvrD"
      },
      "outputs": [],
      "source": [
        "# 練習3 Yの期待値を計算する\n",
        "# Exercise 3 Calculate the expected value of Y\n",
        "\n",
        "print(y_mean)"
      ]
    },
    {
      "cell_type": "code",
      "execution_count": null,
      "metadata": {
        "id": "SiREEquCbvrD"
      },
      "outputs": [],
      "source": [
        "# 練習4 Yの分散を計算する\n",
        "# Exercise 4 Calculate the variance of Y\n",
        "\n",
        "print(y_var)"
      ]
    },
    {
      "cell_type": "code",
      "execution_count": null,
      "metadata": {
        "id": "mFsKrSfbbvrE"
      },
      "outputs": [],
      "source": [
        "# 共分散を計算する\n",
        "# Calculate the covariance\n",
        "mean_xy = x_set @ prob @ y_set\n",
        "cov_xy = mean_xy - x_mean * y_mean\n",
        "print(cov_xy)"
      ]
    },
    {
      "cell_type": "code",
      "execution_count": null,
      "metadata": {
        "id": "cNQdGyCMbvrE"
      },
      "outputs": [],
      "source": [
        "# 練習5 相関係数を計算する\n",
        "# Exercise 5 Calculate the correlation coefficient\n",
        "\n",
        "print(rho_xy)"
      ]
    },
    {
      "cell_type": "markdown",
      "metadata": {
        "id": "p5W-LyMqbvrE"
      },
      "source": [
        "## 連続型の同時確率分布"
      ]
    },
    {
      "cell_type": "markdown",
      "metadata": {
        "id": "tIrnkljHbvrE"
      },
      "source": [
        "## Simultaneous probability distributions of continuous type\n"
      ]
    },
    {
      "cell_type": "code",
      "execution_count": null,
      "metadata": {
        "id": "MJCKiUh4bvrE"
      },
      "outputs": [],
      "source": [
        "# 2次元正規分布を生成する\n",
        "# Generate a two-dimensional normal distribution\n",
        "mean_x = 0\n",
        "mean_y = 0\n",
        "var_x = 1\n",
        "var_y = 1\n",
        "rho = 0.5\n",
        "mean = np.array([mean_x, mean_y])\n",
        "cov = np.array([[var_x, rho * var_x * var_y], [rho * var_x * var_y, var_y]])\n",
        "rv = stats.multivariate_normal(mean, cov)"
      ]
    },
    {
      "cell_type": "code",
      "execution_count": null,
      "metadata": {
        "id": "NPN-TFV5bvrF"
      },
      "outputs": [],
      "source": [
        "# 2次元正規分布を図示する(Surface plot)\n",
        "# Illustrate 2-dimensional normal distribution (surface plot)\n",
        "x, y = np.mgrid[-2:2:0.01, -2:2:0.01]\n",
        "pos = np.dstack((x, y))\n",
        "prob_xy = rv.pdf(pos)\n",
        "fig = plt.figure(figsize=[10,8])\n",
        "ax = fig.add_subplot(111, projection=\"3d\")\n",
        "c = ax.plot_surface(x, y, prob_xy, cmap=\"viridis\")\n",
        "fig.colorbar(c, ax=ax)\n",
        "ax.set_xlabel(\"X\")\n",
        "ax.set_ylabel(\"Y\")\n",
        "ax.set_zlabel(\"f(X,Y)\")\n",
        "plt.show()"
      ]
    },
    {
      "cell_type": "code",
      "execution_count": null,
      "metadata": {
        "id": "awtfMVZ-bvrF"
      },
      "outputs": [],
      "source": [
        "# 2次元正規分布を図示する(ヒートマップ)\n",
        "# Illustrate 2-dimensional normal distribution (heat map)\n",
        "fig = plt.figure()\n",
        "ax = fig.add_subplot(111)\n",
        "c = ax.pcolor(x, y, prob_xy)\n",
        "fig.colorbar(c, ax=ax)\n",
        "ax.set_xlabel(\"X\")\n",
        "ax.set_ylabel(\"Y\")\n",
        "plt.show()"
      ]
    },
    {
      "cell_type": "code",
      "execution_count": null,
      "metadata": {
        "id": "A3EiiVPTbvrF"
      },
      "outputs": [],
      "source": [
        "# 2次元正規分布から100000点をサンプリングした結果からXのヒストグラムを作成する（周辺確率分布を数値的に近似する）\n",
        "# Create a histogram of X from the results of sampling 100000 points from a 2-dimensional normal distribution (numerically approximates the marginal probability distribution)\n",
        "num_samples = 100000\n",
        "#rv.rvs(num_samples)でrvに従う確率変数をnum_samples点サンプリングする\n",
        "#rv.rvs(num_samples) to sample num_samples points for random variables following rv\n",
        "samples = rv.rvs(num_samples)\n",
        "x_samples = samples[:, 0]\n",
        "plt.hist(x_samples, bins=50, density=True)\n",
        "plt.xlabel(\"X\")\n",
        "plt.ylabel(\"f(X)\")"
      ]
    },
    {
      "cell_type": "code",
      "execution_count": null,
      "metadata": {
        "id": "muZYQTYzbvrF"
      },
      "outputs": [],
      "source": [
        "# 2次元正規分布から100000点をサンプリングした結果からYのヒストグラムを作成する（周辺確率分布を数値的に近似する）\n",
        "# Create a histogram of Y from the results of sampling 100000 points from a 2-dimensional normal distribution (numerically approximates the marginal probability distribution)\n",
        "y_samples = samples[:, 1]\n",
        "plt.hist(y_samples, bins=50, density=True)\n",
        "plt.xlabel(\"Y\")\n",
        "plt.ylabel(\"f(Y)\")"
      ]
    },
    {
      "cell_type": "code",
      "execution_count": null,
      "metadata": {
        "id": "yNYrUqmebvrG"
      },
      "outputs": [],
      "source": [
        "# 練習6 標準正規分布を生成する\n",
        "# Exercise 6 Generating the Standard Normal Distribution\n"
      ]
    },
    {
      "cell_type": "code",
      "execution_count": null,
      "metadata": {
        "id": "md_y4p3SbvrG"
      },
      "outputs": [],
      "source": [
        "# 練習7 標準正規分布の確率密度関数と2次元正規分布からサンプルされたXの値のヒストグラムを同時に図示する\n",
        "# Exercise 7 Simultaneously illustrate the probability density function of the standard normal distribution and a histogram of the values of X sampled from a two-dimensional normal distribution\n",
        "\n",
        "# --- 変更しない/No change ---\n",
        "plt.hist(x_samples, bins=50, density=True)\n",
        "plt.xlabel(\"X\")\n",
        "plt.ylabel(\"f(X)\")\n",
        "# --- 変更しない/No change ---\n",
        "\n"
      ]
    },
    {
      "cell_type": "code",
      "execution_count": null,
      "metadata": {
        "id": "6dHYB-rbbvrG"
      },
      "outputs": [],
      "source": [
        "# 練習7 標準正規分布の確率密度関数と2次元正規分布からサンプルされたYの値のヒストグラムを同時に図示する\n",
        "# Exercise 7 Simultaneously illustrate the probability density function of the standard normal distribution and a histogram of the values of Y sampled from a two-dimensional normal distribution\n",
        "\n",
        "# --- 変更しない/No change ---\n",
        "y_samples = samples[:, 1]\n",
        "plt.hist(y_samples, bins=50, density=True)\n",
        "plt.xlabel(\"Y\")\n",
        "plt.ylabel(\"f(Y)\")\n",
        "# --- 変更しない/No change ---\n",
        "\n"
      ]
    },
    {
      "cell_type": "markdown",
      "metadata": {
        "id": "rY-ltOoNbvrG"
      },
      "source": [
        "## 確率分布の再正性"
      ]
    },
    {
      "cell_type": "markdown",
      "metadata": {
        "id": "X9hckYhmbvrG"
      },
      "source": [
        "## Reproducibility of probability distributions"
      ]
    },
    {
      "cell_type": "code",
      "execution_count": null,
      "metadata": {
        "id": "TcTX-skhbvrH"
      },
      "outputs": [],
      "source": [
        "# サイコロを70回振って1が出る回数を表す確率分布Aとサイコロを30回振って1が出る回数を表す確立分布Bをそれぞれ生成する\n",
        "# Generate probability distributions A and B, representing the number of times a 1 is rolled 70 times on the dice and the number of times a 1 is rolled 30 times on the dice, respectively\n",
        "rv1 = stats.binom(70, 1 / 6)\n",
        "rv2 = stats.binom(30, 1 / 6)"
      ]
    },
    {
      "cell_type": "code",
      "execution_count": null,
      "metadata": {
        "id": "NQ-BQhnrbvrH"
      },
      "outputs": [],
      "source": [
        "# 確率分布A,Bから100000回のサンプリングを行い、サンプル点の和を計算する\n",
        "# Calculate the sum of the sample points by sampling 100000 times from probability distributions A and B\n",
        "num_samples = 100000\n",
        "x = rv1.rvs(num_samples)\n",
        "y = rv2.rvs(num_samples)\n",
        "z = x + y"
      ]
    },
    {
      "cell_type": "code",
      "execution_count": null,
      "metadata": {
        "id": "ptx0vZKzbvrH"
      },
      "outputs": [],
      "source": [
        "# 練習9 サイコロを100回振って、1が出る回数を表す確率分布を生成する\n",
        "# Exercise 9 Roll the dice 100 times and generate a probability distribution representing the number of times a 1 is rolled\n"
      ]
    },
    {
      "cell_type": "code",
      "execution_count": null,
      "metadata": {
        "id": "saghGV4RbvrH"
      },
      "outputs": [],
      "source": [
        "# 練習10 サンプル点の和のヒストグラムと練習9で生成した確率分布の確率質量関数を同時に図示する\n",
        "# Exercise 10 Illustrate simultaneously the histogram of the sum of the sample points and the probability mass function of the probability distribution generated in Exercise 9\n"
      ]
    },
    {
      "cell_type": "code",
      "execution_count": null,
      "metadata": {
        "id": "w6jejyJbbvrI"
      },
      "outputs": [],
      "source": []
    }
  ],
  "metadata": {
    "kernelspec": {
      "display_name": "Python 3 (ipykernel)",
      "language": "python",
      "name": "python3"
    },
    "language_info": {
      "codemirror_mode": {
        "name": "ipython",
        "version": 3
      },
      "file_extension": ".py",
      "mimetype": "text/x-python",
      "name": "python",
      "nbconvert_exporter": "python",
      "pygments_lexer": "ipython3",
      "version": "3.10.14"
    },
    "colab": {
      "provenance": [],
      "include_colab_link": true
    }
  },
  "nbformat": 4,
  "nbformat_minor": 0
}